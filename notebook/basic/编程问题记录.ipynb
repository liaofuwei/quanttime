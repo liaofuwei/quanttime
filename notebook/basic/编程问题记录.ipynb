{
 "cells": [
  {
   "cell_type": "code",
   "execution_count": null,
   "metadata": {
    "collapsed": true
   },
   "outputs": [],
   "source": [
    "#'ascii' codec can't decode byte 0xe6 in position 61: ordinal not in range(128)\n",
    "#解决方案\n",
    "import sys\n",
    "default_encoding = 'utf-8'\n",
    "if sys.getdefaultencoding() != default_encoding:\n",
    "    reload(sys)\n",
    "    sys.setdefaultencoding(default_encoding)"
   ]
  },
  {
   "cell_type": "code",
   "execution_count": 6,
   "metadata": {
    "collapsed": true
   },
   "outputs": [],
   "source": [
    "#coding:utf-8\n",
    "import sys \n",
    "reload(sys) \n",
    "sys.setdefaultencoding(\"utf-8\")\n",
    "a='中国'\n",
    "print sys.getdefaultencoding() "
   ]
  },
  {
   "cell_type": "code",
   "execution_count": null,
   "metadata": {
    "collapsed": true
   },
   "outputs": [],
   "source": []
  },
  {
   "cell_type": "code",
   "execution_count": null,
   "metadata": {
    "collapsed": true
   },
   "outputs": [],
   "source": []
  }
 ],
 "metadata": {
  "anaconda-cloud": {},
  "kernelspec": {
   "display_name": "Python [default]",
   "language": "python",
   "name": "python2"
  },
  "language_info": {
   "codemirror_mode": {
    "name": "ipython",
    "version": 2
   },
   "file_extension": ".py",
   "mimetype": "text/x-python",
   "name": "python",
   "nbconvert_exporter": "python",
   "pygments_lexer": "ipython2",
   "version": "2.7.12"
  }
 },
 "nbformat": 4,
 "nbformat_minor": 0
}
